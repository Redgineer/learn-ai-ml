{
 "cells": [
  {
   "cell_type": "markdown",
   "id": "JjVaYKA3E4Sh",
   "metadata": {
    "id": "JjVaYKA3E4Sh"
   },
   "source": [
    "# __Demo: Zero-Shot Prompting with LangChain and OpenAI__"
   ]
  },
  {
   "cell_type": "markdown",
   "id": "L5xEJAD-FWkJ",
   "metadata": {
    "id": "L5xEJAD-FWkJ"
   },
   "source": [
    "## __Steps to Perform:__\n",
    "Step 1: Set up the OpenAI API Key\n",
    "\n",
    "Step 2: Define a Function to Get Completion\n",
    "\n",
    "Step 3: Define Your Prompt"
   ]
  },
  {
   "cell_type": "markdown",
   "id": "oejbW3zZlqXB",
   "metadata": {
    "id": "oejbW3zZlqXB"
   },
   "source": [
    "### __Step 1: Set up the OpenAI API Key__\n",
    "- The code imports the necessary libraries.\n",
    "- The **os** is used for interacting with the operating system, and __openai__ is the library required to work with OpenAI's API."
   ]
  },
  {
   "cell_type": "code",
   "execution_count": 1,
   "id": "172a828d-22d6-486b-be55-62c9258add5b",
   "metadata": {
    "id": "172a828d-22d6-486b-be55-62c9258add5b"
   },
   "outputs": [],
   "source": [
    "import os\n",
    "import openai\n",
    "\n",
    "#openai.api_key  = os.getenv('OPENAI_API_KEY')\n"
   ]
  },
  {
   "cell_type": "markdown",
   "id": "yI8QQCxCl-LQ",
   "metadata": {
    "id": "yI8QQCxCl-LQ"
   },
   "source": [
    "### __Step 2: Define a Function to Get Completion__\n",
    "The __get_completion__ function is responsible for sending a prompt to the OpenAI model and receiving its response.\n",
    "\n",
    "__Parameters:__\n",
    "  - __prompt__: It is the text input for which the model will generate a completion.\n",
    "  -  __model__: The gpt-3.5-turbo model is used to perform the tasks.\n",
    "\n",
    "The __openai.ChatCompletion.create__ function is used to send a request to the OpenAI API.\n",
    "- This request includes the model, the input messages (formatted as a list of dictionaries with user roles and content), and a temperature setting."
   ]
  },
  {
   "cell_type": "code",
   "execution_count": 2,
   "id": "e778a5d4-77e5-4d61-a77d-3fed1e8d830a",
   "metadata": {
    "id": "e778a5d4-77e5-4d61-a77d-3fed1e8d830a"
   },
   "outputs": [],
   "source": [
    "def get_completion(prompt, model=\"gpt-3.5-turbo\"):\n",
    "    try:\n",
    "        messages = [{\"role\": \"user\", \"content\": prompt}]\n",
    "        \n",
    "        response = openai.ChatCompletion.create(\n",
    "            model=model,\n",
    "            messages=messages,\n",
    "            temperature=0.1,\n",
    "            top_p=0.8,\n",
    "            max_tokens=512\n",
    "        )\n",
    "        \n",
    "        return response  # Return full response (not a string)\n",
    "\n",
    "    except openai.error.OpenAIError as e:\n",
    "        return {\"error\": f\"OpenAI API Error: {str(e)}\"}\n",
    "    except Exception as e:\n",
    "        return {\"error\": f\"Unexpected Error: {str(e)}\"}"
   ]
  },
  {
   "cell_type": "markdown",
   "id": "efe55c20-acf7-45b0-9d64-9b4e89938fc7",
   "metadata": {},
   "source": [
    "Inside the above fucntion, we will discuss the Messages part first\n",
    "\n",
    "Structure is :\n",
    "\n",
    "**Role** --> Defining who is speaking\n",
    "\n",
    "    System : Sets the behavious of the model\n",
    "    User : Who inputs the data or instruction\n",
    "    Assistant : The models's Response\n",
    "\n",
    "Content : The actual text or instruction which is passed by us."
   ]
  },
  {
   "cell_type": "markdown",
   "id": "XJS0DNh0nonO",
   "metadata": {
    "id": "XJS0DNh0nonO"
   },
   "source": [
    "### __Step 3: Define Your Prompt__\n",
    "- The prompt variable is defined with a simple translation task."
   ]
  },
  {
   "cell_type": "code",
   "execution_count": 3,
   "id": "3ef6aa68-a8aa-45c6-b70b-3060e9253b90",
   "metadata": {
    "id": "3ef6aa68-a8aa-45c6-b70b-3060e9253b90",
    "outputId": "8d98a6c9-99b7-48e7-a2ea-fcf68b053879"
   },
   "outputs": [
    {
     "name": "stdout",
     "output_type": "stream",
     "text": [
      "Artificial intelligence (AI) refers to the simulation of human intelligence processes by machines, particularly computer systems. AI involves the development of algorithms and systems that can perform tasks that typically require human intelligence, such as visual perception, speech recognition, decision-making, and language translation.\n",
      "\n",
      "AI systems are designed to learn from data, adapt to new inputs, and perform tasks with minimal human intervention. They can analyze large amounts of data, identify patterns, and make predictions or decisions based on that data. AI technologies include machine learning, neural networks, natural language processing, and computer vision.\n",
      "\n",
      "AI has a wide range of applications across various industries, including healthcare, finance, transportation, and entertainment. It is used to automate repetitive tasks, improve efficiency, enhance decision-making, and create new products and services.\n",
      "\n",
      "However, AI also raises ethical and societal concerns, such as job displacement, bias in algorithms, privacy issues, and the potential for misuse. As AI continues to advance, it is important for society to consider the implications and ensure that AI technologies are developed and used responsibly.\n"
     ]
    }
   ],
   "source": [
    "prompt = \"Explain artificial intelligence\"\n",
    "response = get_completion(prompt)\n",
    "\n",
    "# Ensure it's a dictionary\n",
    "if isinstance(response, dict) and \"choices\" in response:\n",
    "    print(response[\"choices\"][0][\"message\"][\"content\"])\n",
    "else:\n",
    "    print(\"Error:\", response)"
   ]
  },
  {
   "cell_type": "code",
   "execution_count": 4,
   "id": "5bf8b09a-e09a-4405-b342-0cafee23feca",
   "metadata": {},
   "outputs": [
    {
     "data": {
      "text/plain": [
       "[<OpenAIObject at 0x7f5d6df84db0> JSON: {\n",
       "   \"index\": 0,\n",
       "   \"message\": {\n",
       "     \"role\": \"assistant\",\n",
       "     \"content\": \"Artificial intelligence (AI) refers to the simulation of human intelligence processes by machines, particularly computer systems. AI involves the development of algorithms and systems that can perform tasks that typically require human intelligence, such as visual perception, speech recognition, decision-making, and language translation.\\n\\nAI systems are designed to learn from data, adapt to new inputs, and perform tasks with minimal human intervention. They can analyze large amounts of data, identify patterns, and make predictions or decisions based on that data. AI technologies include machine learning, neural networks, natural language processing, and computer vision.\\n\\nAI has a wide range of applications across various industries, including healthcare, finance, transportation, and entertainment. It is used to automate repetitive tasks, improve efficiency, enhance decision-making, and create new products and services.\\n\\nHowever, AI also raises ethical and societal concerns, such as job displacement, bias in algorithms, privacy issues, and the potential for misuse. As AI continues to advance, it is important for society to consider the implications and ensure that AI technologies are developed and used responsibly.\",\n",
       "     \"refusal\": null\n",
       "   },\n",
       "   \"logprobs\": null,\n",
       "   \"finish_reason\": \"stop\"\n",
       " }]"
      ]
     },
     "execution_count": 4,
     "metadata": {},
     "output_type": "execute_result"
    }
   ],
   "source": [
    "response.choices"
   ]
  },
  {
   "cell_type": "code",
   "execution_count": 5,
   "id": "5f8447f2-7697-46f9-9557-ae8357590e20",
   "metadata": {},
   "outputs": [
    {
     "data": {
      "text/plain": [
       "<OpenAIObject at 0x7f5d6df84db0> JSON: {\n",
       "  \"index\": 0,\n",
       "  \"message\": {\n",
       "    \"role\": \"assistant\",\n",
       "    \"content\": \"Artificial intelligence (AI) refers to the simulation of human intelligence processes by machines, particularly computer systems. AI involves the development of algorithms and systems that can perform tasks that typically require human intelligence, such as visual perception, speech recognition, decision-making, and language translation.\\n\\nAI systems are designed to learn from data, adapt to new inputs, and perform tasks with minimal human intervention. They can analyze large amounts of data, identify patterns, and make predictions or decisions based on that data. AI technologies include machine learning, neural networks, natural language processing, and computer vision.\\n\\nAI has a wide range of applications across various industries, including healthcare, finance, transportation, and entertainment. It is used to automate repetitive tasks, improve efficiency, enhance decision-making, and create new products and services.\\n\\nHowever, AI also raises ethical and societal concerns, such as job displacement, bias in algorithms, privacy issues, and the potential for misuse. As AI continues to advance, it is important for society to consider the implications and ensure that AI technologies are developed and used responsibly.\",\n",
       "    \"refusal\": null\n",
       "  },\n",
       "  \"logprobs\": null,\n",
       "  \"finish_reason\": \"stop\"\n",
       "}"
      ]
     },
     "execution_count": 5,
     "metadata": {},
     "output_type": "execute_result"
    }
   ],
   "source": [
    "response.choices[0]"
   ]
  },
  {
   "cell_type": "code",
   "execution_count": 6,
   "id": "f72c66ce-df7b-4df1-ba69-e79485dafc9e",
   "metadata": {},
   "outputs": [
    {
     "data": {
      "text/plain": [
       "<OpenAIObject at 0x7f5d6df85350> JSON: {\n",
       "  \"role\": \"assistant\",\n",
       "  \"content\": \"Artificial intelligence (AI) refers to the simulation of human intelligence processes by machines, particularly computer systems. AI involves the development of algorithms and systems that can perform tasks that typically require human intelligence, such as visual perception, speech recognition, decision-making, and language translation.\\n\\nAI systems are designed to learn from data, adapt to new inputs, and perform tasks with minimal human intervention. They can analyze large amounts of data, identify patterns, and make predictions or decisions based on that data. AI technologies include machine learning, neural networks, natural language processing, and computer vision.\\n\\nAI has a wide range of applications across various industries, including healthcare, finance, transportation, and entertainment. It is used to automate repetitive tasks, improve efficiency, enhance decision-making, and create new products and services.\\n\\nHowever, AI also raises ethical and societal concerns, such as job displacement, bias in algorithms, privacy issues, and the potential for misuse. As AI continues to advance, it is important for society to consider the implications and ensure that AI technologies are developed and used responsibly.\",\n",
       "  \"refusal\": null\n",
       "}"
      ]
     },
     "execution_count": 6,
     "metadata": {},
     "output_type": "execute_result"
    }
   ],
   "source": [
    "response.choices[0].message"
   ]
  },
  {
   "cell_type": "code",
   "execution_count": 7,
   "id": "93e44044-391f-4237-a193-55fc42a511aa",
   "metadata": {},
   "outputs": [
    {
     "data": {
      "text/plain": [
       "'Artificial intelligence (AI) refers to the simulation of human intelligence processes by machines, particularly computer systems. AI involves the development of algorithms and systems that can perform tasks that typically require human intelligence, such as visual perception, speech recognition, decision-making, and language translation.\\n\\nAI systems are designed to learn from data, adapt to new inputs, and perform tasks with minimal human intervention. They can analyze large amounts of data, identify patterns, and make predictions or decisions based on that data. AI technologies include machine learning, neural networks, natural language processing, and computer vision.\\n\\nAI has a wide range of applications across various industries, including healthcare, finance, transportation, and entertainment. It is used to automate repetitive tasks, improve efficiency, enhance decision-making, and create new products and services.\\n\\nHowever, AI also raises ethical and societal concerns, such as job displacement, bias in algorithms, privacy issues, and the potential for misuse. As AI continues to advance, it is important for society to consider the implications and ensure that AI technologies are developed and used responsibly.'"
      ]
     },
     "execution_count": 7,
     "metadata": {},
     "output_type": "execute_result"
    }
   ],
   "source": [
    "response.choices[0].message.content"
   ]
  },
  {
   "cell_type": "code",
   "execution_count": 12,
   "id": "2409aef9-0cc0-451d-b17f-d7ff4562782d",
   "metadata": {},
   "outputs": [],
   "source": [
    "def get_completion(prompt, model = \"gpt-3.5-turbo\"):\n",
    "\n",
    "    # Create the messages list with the user prompt\n",
    "    messages = [\n",
    "        {\"role\": \"system\", \"content\": \"You are a math tutor\"},\n",
    "        {\"role\": \"user\", \"content\": \"Explain me the ...\"},\n",
    "        {\"role\": \"assistant\", \"content\": \"The concept is like...\"},\n",
    "        {\"role\": \"user\", \"content\": \"Give me an example\"},\n",
    "        \n",
    "    ]\n",
    "    \n",
    "    # Create a chat completion request\n",
    "    response = openai.ChatCompletion.create(\n",
    "        \n",
    "        model=model,\n",
    "        messages=messages,\n",
    "        temperature=0.9,\n",
    "        top_p=0.8,\n",
    "        max_tokens=512\n",
    "\n",
    "    )\n",
    "    \n",
    "    # Return the content of the first response\n",
    "    # return response\n",
    "    return response.choices[0].message.content\n",
    "           \n"
   ]
  },
  {
   "cell_type": "code",
   "execution_count": 13,
   "id": "6e1beb11-7c32-44e8-bf11-6d678dd383c5",
   "metadata": {},
   "outputs": [
    {
     "name": "stdout",
     "output_type": "stream",
     "text": [
      "Sure! Here is an example: Let's say you have a math problem that asks you to find the area of a rectangle. The formula for the area of a rectangle is length x width. If the length of the rectangle is 5 units and the width is 3 units, you would multiply 5 by 3 to get the area, which is 15 square units.\n"
     ]
    }
   ],
   "source": [
    "prompt = \"explain trignometry\"\n",
    "\n",
    "response = get_completion(prompt)\n",
    "print(response)"
   ]
  },
  {
   "cell_type": "code",
   "execution_count": null,
   "id": "f442b52c-c41e-4e9a-ba68-8fbeb3a83efb",
   "metadata": {},
   "outputs": [],
   "source": []
  }
 ],
 "metadata": {
  "colab": {
   "provenance": []
  },
  "kernelspec": {
   "display_name": "Python 3 [3.10]",
   "language": "python",
   "name": "python3"
  },
  "language_info": {
   "codemirror_mode": {
    "name": "ipython",
    "version": 3
   },
   "file_extension": ".py",
   "mimetype": "text/x-python",
   "name": "python",
   "nbconvert_exporter": "python",
   "pygments_lexer": "ipython3",
   "version": "3.10.2"
  }
 },
 "nbformat": 4,
 "nbformat_minor": 5
}
